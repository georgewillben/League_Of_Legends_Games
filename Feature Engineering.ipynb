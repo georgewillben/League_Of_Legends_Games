{
 "cells": [
  {
   "cell_type": "markdown",
   "metadata": {},
   "source": [
    "# Feature Engineering"
   ]
  },
  {
   "cell_type": "code",
   "execution_count": 17,
   "metadata": {},
   "outputs": [],
   "source": [
    "import pandas as pd\n",
    "import numpy as np\n",
    "import matplotlib.pyplot as plt\n",
    "%matplotlib inline\n",
    "import seaborn as sns\n",
    "from sklearn.feature_selection import chi2\n",
    "from sklearn.preprocessing import MinMaxScaler\n",
    "from sklearn.decomposition import PCA"
   ]
  },
  {
   "cell_type": "markdown",
   "metadata": {},
   "source": [
    "# 1.1 Load Data"
   ]
  },
  {
   "cell_type": "code",
   "execution_count": 18,
   "metadata": {
    "scrolled": false
   },
   "outputs": [
    {
     "data": {
      "text/html": [
       "<div>\n",
       "<style scoped>\n",
       "    .dataframe tbody tr th:only-of-type {\n",
       "        vertical-align: middle;\n",
       "    }\n",
       "\n",
       "    .dataframe tbody tr th {\n",
       "        vertical-align: top;\n",
       "    }\n",
       "\n",
       "    .dataframe thead th {\n",
       "        text-align: right;\n",
       "    }\n",
       "</style>\n",
       "<table border=\"1\" class=\"dataframe\">\n",
       "  <thead>\n",
       "    <tr style=\"text-align: right;\">\n",
       "      <th></th>\n",
       "      <th>gameId</th>\n",
       "      <th>blueWins</th>\n",
       "      <th>blueWardsPlaced</th>\n",
       "      <th>blueWardsDestroyed</th>\n",
       "      <th>blueFirstBlood</th>\n",
       "      <th>blueKills</th>\n",
       "      <th>blueDeaths</th>\n",
       "      <th>blueAssists</th>\n",
       "      <th>blueEliteMonsters</th>\n",
       "      <th>blueDragons</th>\n",
       "      <th>...</th>\n",
       "      <th>redTowersDestroyed</th>\n",
       "      <th>redTotalGold</th>\n",
       "      <th>redAvgLevel</th>\n",
       "      <th>redTotalExperience</th>\n",
       "      <th>redTotalMinionsKilled</th>\n",
       "      <th>redTotalJungleMinionsKilled</th>\n",
       "      <th>redGoldDiff</th>\n",
       "      <th>redExperienceDiff</th>\n",
       "      <th>redCSPerMin</th>\n",
       "      <th>redGoldPerMin</th>\n",
       "    </tr>\n",
       "  </thead>\n",
       "  <tbody>\n",
       "    <tr>\n",
       "      <th>0</th>\n",
       "      <td>4468400169</td>\n",
       "      <td>1</td>\n",
       "      <td>18</td>\n",
       "      <td>0</td>\n",
       "      <td>0</td>\n",
       "      <td>3</td>\n",
       "      <td>4</td>\n",
       "      <td>4</td>\n",
       "      <td>1</td>\n",
       "      <td>1</td>\n",
       "      <td>...</td>\n",
       "      <td>0</td>\n",
       "      <td>15644</td>\n",
       "      <td>7.0</td>\n",
       "      <td>17861</td>\n",
       "      <td>246</td>\n",
       "      <td>51</td>\n",
       "      <td>987</td>\n",
       "      <td>555</td>\n",
       "      <td>24.6</td>\n",
       "      <td>1564.4</td>\n",
       "    </tr>\n",
       "    <tr>\n",
       "      <th>1</th>\n",
       "      <td>4462377853</td>\n",
       "      <td>0</td>\n",
       "      <td>123</td>\n",
       "      <td>2</td>\n",
       "      <td>1</td>\n",
       "      <td>6</td>\n",
       "      <td>6</td>\n",
       "      <td>6</td>\n",
       "      <td>0</td>\n",
       "      <td>0</td>\n",
       "      <td>...</td>\n",
       "      <td>0</td>\n",
       "      <td>15950</td>\n",
       "      <td>7.0</td>\n",
       "      <td>18377</td>\n",
       "      <td>216</td>\n",
       "      <td>49</td>\n",
       "      <td>-428</td>\n",
       "      <td>558</td>\n",
       "      <td>21.6</td>\n",
       "      <td>1595.0</td>\n",
       "    </tr>\n",
       "    <tr>\n",
       "      <th>2</th>\n",
       "      <td>4461787791</td>\n",
       "      <td>1</td>\n",
       "      <td>89</td>\n",
       "      <td>3</td>\n",
       "      <td>1</td>\n",
       "      <td>7</td>\n",
       "      <td>5</td>\n",
       "      <td>7</td>\n",
       "      <td>1</td>\n",
       "      <td>1</td>\n",
       "      <td>...</td>\n",
       "      <td>0</td>\n",
       "      <td>15586</td>\n",
       "      <td>7.0</td>\n",
       "      <td>17668</td>\n",
       "      <td>193</td>\n",
       "      <td>60</td>\n",
       "      <td>-1902</td>\n",
       "      <td>-967</td>\n",
       "      <td>19.3</td>\n",
       "      <td>1558.6</td>\n",
       "    </tr>\n",
       "    <tr>\n",
       "      <th>3</th>\n",
       "      <td>4497751825</td>\n",
       "      <td>0</td>\n",
       "      <td>17</td>\n",
       "      <td>3</td>\n",
       "      <td>1</td>\n",
       "      <td>7</td>\n",
       "      <td>10</td>\n",
       "      <td>5</td>\n",
       "      <td>0</td>\n",
       "      <td>0</td>\n",
       "      <td>...</td>\n",
       "      <td>0</td>\n",
       "      <td>18178</td>\n",
       "      <td>6.4</td>\n",
       "      <td>16533</td>\n",
       "      <td>181</td>\n",
       "      <td>52</td>\n",
       "      <td>2827</td>\n",
       "      <td>2675</td>\n",
       "      <td>18.1</td>\n",
       "      <td>1817.8</td>\n",
       "    </tr>\n",
       "    <tr>\n",
       "      <th>4</th>\n",
       "      <td>4521575223</td>\n",
       "      <td>1</td>\n",
       "      <td>146</td>\n",
       "      <td>1</td>\n",
       "      <td>0</td>\n",
       "      <td>11</td>\n",
       "      <td>7</td>\n",
       "      <td>9</td>\n",
       "      <td>0</td>\n",
       "      <td>0</td>\n",
       "      <td>...</td>\n",
       "      <td>0</td>\n",
       "      <td>17956</td>\n",
       "      <td>6.8</td>\n",
       "      <td>18421</td>\n",
       "      <td>226</td>\n",
       "      <td>73</td>\n",
       "      <td>-564</td>\n",
       "      <td>-633</td>\n",
       "      <td>22.6</td>\n",
       "      <td>1795.6</td>\n",
       "    </tr>\n",
       "  </tbody>\n",
       "</table>\n",
       "<p>5 rows × 40 columns</p>\n",
       "</div>"
      ],
      "text/plain": [
       "       gameId  blueWins  blueWardsPlaced  blueWardsDestroyed  blueFirstBlood  \\\n",
       "0  4468400169         1               18                   0               0   \n",
       "1  4462377853         0              123                   2               1   \n",
       "2  4461787791         1               89                   3               1   \n",
       "3  4497751825         0               17                   3               1   \n",
       "4  4521575223         1              146                   1               0   \n",
       "\n",
       "   blueKills  blueDeaths  blueAssists  blueEliteMonsters  blueDragons  ...  \\\n",
       "0          3           4            4                  1            1  ...   \n",
       "1          6           6            6                  0            0  ...   \n",
       "2          7           5            7                  1            1  ...   \n",
       "3          7          10            5                  0            0  ...   \n",
       "4         11           7            9                  0            0  ...   \n",
       "\n",
       "   redTowersDestroyed  redTotalGold  redAvgLevel  redTotalExperience  \\\n",
       "0                   0         15644          7.0               17861   \n",
       "1                   0         15950          7.0               18377   \n",
       "2                   0         15586          7.0               17668   \n",
       "3                   0         18178          6.4               16533   \n",
       "4                   0         17956          6.8               18421   \n",
       "\n",
       "   redTotalMinionsKilled  redTotalJungleMinionsKilled  redGoldDiff  \\\n",
       "0                    246                           51          987   \n",
       "1                    216                           49         -428   \n",
       "2                    193                           60        -1902   \n",
       "3                    181                           52         2827   \n",
       "4                    226                           73         -564   \n",
       "\n",
       "   redExperienceDiff  redCSPerMin  redGoldPerMin  \n",
       "0                555         24.6         1564.4  \n",
       "1                558         21.6         1595.0  \n",
       "2               -967         19.3         1558.6  \n",
       "3               2675         18.1         1817.8  \n",
       "4               -633         22.6         1795.6  \n",
       "\n",
       "[5 rows x 40 columns]"
      ]
     },
     "execution_count": 18,
     "metadata": {},
     "output_type": "execute_result"
    }
   ],
   "source": [
    "train = pd.read_csv(\"train.csv\")\n",
    "val = pd.read_csv(\"val.csv\")\n",
    "\n",
    "explore = pd.concat([train, val], axis=0)\n",
    "\n",
    "explore.head()"
   ]
  },
  {
   "cell_type": "markdown",
   "metadata": {},
   "source": [
    "# 2.1 Making New Columns"
   ]
  },
  {
   "cell_type": "code",
   "execution_count": 19,
   "metadata": {},
   "outputs": [],
   "source": [
    "def create_feats(dataset):\n",
    "    cols_to_be_dropped = []\n",
    "\n",
    "    for col1 in dataset.columns:\n",
    "        if col1.startswith(\"blue\"):\n",
    "            for col2 in dataset.columns:\n",
    "                if col2 == \"red\" + col1[4:]:\n",
    "                    dataset[\"ratio\" + col1[4:]] = dataset[col1] / (dataset[col2] + 1)\n",
    "                    dataset[\"difference\" + col1[4:]] = dataset[col1] - dataset[col2]\n",
    "                    cols_to_be_dropped.append(col1)\n",
    "                    cols_to_be_dropped.append(col2)\n",
    "                \n",
    "    for col in cols_to_be_dropped:\n",
    "        dataset.drop(col, axis=1, inplace=True)\n",
    "        \n",
    "    return dataset\n",
    "        \n",
    "explore = create_feats(explore)"
   ]
  },
  {
   "cell_type": "markdown",
   "metadata": {},
   "source": [
    "# 3.1 Selecting Features: Looking At Correlation To Target"
   ]
  },
  {
   "cell_type": "code",
   "execution_count": 20,
   "metadata": {
    "scrolled": false
   },
   "outputs": [
    {
     "data": {
      "image/png": "[encoded data removed]",
      "text/plain": [
       "<Figure size 1080x360 with 1 Axes>"
      ]
     },
     "metadata": {
      "needs_background": "light"
     },
     "output_type": "display_data"
    }
   ],
   "source": [
    "plt.figure(figsize=(15, 5))\n",
    "plt.bar(explore.columns, abs(explore.corr()[\"blueWins\"]))\n",
    "plt.xticks(rotation=90)\n",
    "plt.show()"
   ]
  },
  {
   "cell_type": "code",
   "execution_count": 21,
   "metadata": {},
   "outputs": [
    {
     "data": {
      "text/plain": [
       "Index(['blueWins', 'ratioFirstBlood', 'differenceFirstBlood', 'ratioKills',\n",
       "       'differenceKills', 'ratioDeaths', 'differenceDeaths', 'ratioAssists',\n",
       "       'differenceAssists', 'ratioEliteMonsters', 'differenceEliteMonsters',\n",
       "       'ratioDragons', 'differenceDragons', 'ratioTotalGold',\n",
       "       'differenceTotalGold', 'ratioAvgLevel', 'differenceAvgLevel',\n",
       "       'ratioTotalExperience', 'differenceTotalExperience',\n",
       "       'ratioTotalMinionsKilled', 'differenceTotalMinionsKilled',\n",
       "       'differenceGoldDiff', 'differenceExperienceDiff', 'ratioCSPerMin',\n",
       "       'differenceCSPerMin', 'ratioGoldPerMin', 'differenceGoldPerMin'],\n",
       "      dtype='object')"
      ]
     },
     "execution_count": 21,
     "metadata": {},
     "output_type": "execute_result"
    }
   ],
   "source": [
    "# save the most correlated features\n",
    "cols_with_corrs = zip(explore.columns, abs(explore.corr()[\"blueWins\"].values))\n",
    "\n",
    "high_corr_columns = pd.DataFrame([])\n",
    "                      \n",
    "for col, corr in cols_with_corrs:\n",
    "    if corr >= 0.2:\n",
    "        high_corr_columns[col] = explore[col]\n",
    "                                      \n",
    "high_corr_columns.columns"
   ]
  },
  {
   "cell_type": "markdown",
   "metadata": {},
   "source": [
    "# 3.2 Selecting Features: Chi Squared Test"
   ]
  },
  {
   "cell_type": "code",
   "execution_count": 22,
   "metadata": {},
   "outputs": [
    {
     "data": {
      "text/plain": [
       "array([0.00000000e+00, 8.77964079e-36, 8.77964079e-36, 4.90541194e-16,\n",
       "       1.89244991e-13, 2.18135997e-14, 2.47516502e-14, 5.99090750e-16,\n",
       "       3.11844783e-08, 2.80053960e-34, 5.52960941e-18, 3.15999570e-50,\n",
       "       1.07250156e-39, 1.80332053e-14, 2.58267975e-12, 6.72740440e-07,\n",
       "       1.81716785e-07, 2.00086363e-09, 2.14238899e-10, 4.70780440e-05,\n",
       "       9.05611347e-07, 2.58267975e-12, 2.14238899e-10, 4.61095495e-05,\n",
       "       9.05611347e-07, 1.80796911e-14, 2.58267975e-12])"
      ]
     },
     "execution_count": 22,
     "metadata": {},
     "output_type": "execute_result"
    }
   ],
   "source": [
    "scaler = MinMaxScaler()\n",
    "normalized = scaler.fit_transform(high_corr_columns)\n",
    "results = chi2(normalized, explore[\"blueWins\"])[1]\n",
    "results"
   ]
  },
  {
   "cell_type": "code",
   "execution_count": 23,
   "metadata": {
    "scrolled": true
   },
   "outputs": [
    {
     "data": {
      "image/png": "[encoded data removed]",
      "text/plain": [
       "<Figure size 1080x360 with 1 Axes>"
      ]
     },
     "metadata": {
      "needs_background": "light"
     },
     "output_type": "display_data"
    }
   ],
   "source": [
    "plt.figure(figsize=(15, 5))\n",
    "plt.bar(high_corr_columns.columns, results)\n",
    "plt.axhline(0.05)\n",
    "plt.xticks(rotation=90)\n",
    "plt.show()"
   ]
  },
  {
   "cell_type": "markdown",
   "metadata": {},
   "source": [
    "# 3.3 Select Features: MultiColinearity"
   ]
  },
  {
   "cell_type": "code",
   "execution_count": null,
   "metadata": {},
   "outputs": [],
   "source": [
    "plt.figure(figsize=(40, 40))\n",
    "sns.heatmap(abs(high_corr_columns.corr()))\n",
    "plt.show()"
   ]
  },
  {
   "cell_type": "markdown",
   "metadata": {},
   "source": [
    "# 4.1 PCA"
   ]
  },
  {
   "cell_type": "code",
   "execution_count": null,
   "metadata": {},
   "outputs": [],
   "source": [
    "X = high_corr_columns.drop(\"blueWins\", axis=1)\n",
    "pca = PCA(n_components=20)\n",
    "pca.fit(X)\n",
    "plt.plot(range(20), pca.explained_variance_ratio_)\n",
    "plt.title(\"Explained Variance Ratio\")\n",
    "plt.show()"
   ]
  },
  {
   "cell_type": "markdown",
   "metadata": {},
   "source": [
    "It seems to plateu around 2."
   ]
  },
  {
   "cell_type": "code",
   "execution_count": null,
   "metadata": {},
   "outputs": [],
   "source": [
    "pca = PCA(n_components=2)\n",
    "pca_transformed = pd.DataFrame(pca.fit_transform(X))\n",
    "plt.figure(figsize=(40, 40))\n",
    "sns.heatmap(abs(pca_transformed.corr()))\n",
    "plt.show()"
   ]
  },
  {
   "cell_type": "markdown",
   "metadata": {},
   "source": [
    "# 5.1 Save Changes"
   ]
  },
  {
   "cell_type": "code",
   "execution_count": null,
   "metadata": {},
   "outputs": [],
   "source": [
    "test = pd.read_csv(\"test.csv\")\n",
    "\n",
    "train, val, test = create_feats(train), create_feats(val), create_feats(test)"
   ]
  },
  {
   "cell_type": "code",
   "execution_count": null,
   "metadata": {},
   "outputs": [],
   "source": [
    "for col in train.columns:\n",
    "    if col not in high_corr_columns.columns:\n",
    "        train.drop(col, axis=1, inplace=True)\n",
    "        val.drop(col, axis=1, inplace=True)\n",
    "        test.drop(col, axis=1, inplace=True)"
   ]
  },
  {
   "cell_type": "code",
   "execution_count": null,
   "metadata": {},
   "outputs": [],
   "source": [
    "test.columns"
   ]
  },
  {
   "cell_type": "code",
   "execution_count": null,
   "metadata": {},
   "outputs": [],
   "source": []
  },
  {
   "cell_type": "code",
   "execution_count": null,
   "metadata": {},
   "outputs": [],
   "source": []
  }
 ],
 "metadata": {
  "kernelspec": {
   "display_name": "Python 3",
   "language": "python",
   "name": "python3"
  },
  "language_info": {
   "codemirror_mode": {
    "name": "ipython",
    "version": 3
   },
   "file_extension": ".py",
   "mimetype": "text/x-python",
   "name": "python",
   "nbconvert_exporter": "python",
   "pygments_lexer": "ipython3",
   "version": "3.7.3"
  }
 },
 "nbformat": 4,
 "nbformat_minor": 2
}
